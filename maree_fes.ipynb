{
 "cells": [
  {
   "cell_type": "markdown",
   "metadata": {},
   "source": [
    "# Reconstruction de la marée à partir de constantes harmoniques: "
   ]
  },
  {
   "cell_type": "markdown",
   "metadata": {},
   "source": [
    "## 1. Rappels sur la marée"
   ]
  },
  {
   "cell_type": "markdown",
   "metadata": {},
   "source": [
    "![title](figures_ipynb/figures_refmar/constantes_harmoniques.png)"
   ]
  },
  {
   "cell_type": "markdown",
   "metadata": {},
   "source": [
    "![title](figures_ipynb/figures_refmar/list_constituents.png)"
   ]
  },
  {
   "cell_type": "markdown",
   "metadata": {},
   "source": [
    "![title](figures_ipynb/figures_refmar/types_de_maree.png)"
   ]
  },
  {
   "cell_type": "markdown",
   "metadata": {},
   "source": [
    "![title](figures_ipynb/figures_refmar/types_de_maree_dans_le_monde.png)"
   ]
  },
  {
   "cell_type": "markdown",
   "metadata": {},
   "source": [
    "## 2. Composantes de marée FES 2014: "
   ]
  },
  {
   "cell_type": "markdown",
   "metadata": {},
   "source": [
    "**FES**: modèle hydrodynamique qui assimile données in situ (ex: marégraphe) et données d'altimétrie satellitaire, qui a permis la production de données de constantes harmoniques sur une **grile globale au 1/16° en libre accès**."
   ]
  },
  {
   "cell_type": "markdown",
   "metadata": {},
   "source": [
    "Dossier des données de composantes de marée"
   ]
  },
  {
   "cell_type": "markdown",
   "metadata": {},
   "source": [
    "Affichage de l'amplitude et de la phase pour une composante: **M2**"
   ]
  },
  {
   "cell_type": "code",
   "execution_count": 1,
   "metadata": {
    "scrolled": true
   },
   "outputs": [],
   "source": [
    "from netCDF4 import Dataset\n",
    "import matplotlib.pyplot as plt\n",
    "from os.path import join as join\n",
    "import numpy as np\n",
    "\n",
    "# get M2 FES_2014 data\n",
    "path_fes_2014_data = '/home/florent/ownCloud/R&D/DATA/TIDE/FES_2014/FES2014_b_elevations_extrapolated/ocean_tide_extrapolated/'\n",
    "constituent = 'm2'\n",
    "file_constituent = join(path_fes_2014_data, constituent + '.nc')\n",
    "m2 = Dataset(file_constituent)\n",
    "\n",
    "# affichage"
   ]
  },
  {
   "cell_type": "markdown",
   "metadata": {},
   "source": [
    "![title](figures_ipynb/amplitude_in_m2.png)\n",
    "![title](figures_ipynb/phase_in_m2.png)"
   ]
  },
  {
   "cell_type": "markdown",
   "metadata": {},
   "source": [
    "## 3. Calcul de la marée à partir des composantes FES 2014: "
   ]
  },
  {
   "cell_type": "code",
   "execution_count": 2,
   "metadata": {},
   "outputs": [],
   "source": [
    "def compute_dates(start_date, end_date, step):\n",
    "    vec_dates = [start_date]\n",
    "    date_i = start_date\n",
    "    while date_i < end_date:\n",
    "        date_i += np.timedelta64(step, 'm')\n",
    "        vec_dates.append(date_i)\n",
    "    return vec_dates\n",
    "\n",
    "def get_closest_grid_point(lons, lats, lon, lat):\n",
    "    grid_lon, grid_lat = np.meshgrid(lons, lats)\n",
    "    diffs_lon = np.abs(lons - lon)\n",
    "    diffs_lat = np.abs(lats - lat)\n",
    "    ind_lon = np.where(diffs_lon == np.min(diffs_lon))[0][0]\n",
    "    ind_lat = np.where(diffs_lat == np.min(diffs_lat))[0][0]\n",
    "    lon_extract = grid_lon[ind_lat, ind_lon]\n",
    "    lat_extract = grid_lat[ind_lat, ind_lon]\n",
    "    return ind_lon, ind_lat, lon_extract, lat_extract\n",
    "\n",
    "def get_fes_wl_at_extraction_point(lons, lats, lon_extraction, lat_extraction, geo_tide):\n",
    "    ind_lon, ind_lat, lon_extract, lat_extract = get_closest_grid_point(lons, lats, lon_extraction,\n",
    "                                                                        lat_extraction)\n",
    "    tide_extract = geo_tide[ind_lat, ind_lon]\n",
    "    return tide_extract, lon_extract, lat_extract\n",
    "\n"
   ]
  },
  {
   "cell_type": "code",
   "execution_count": 14,
   "metadata": {},
   "outputs": [
    {
     "name": "stdout",
     "output_type": "stream",
     "text": [
      "grid_lons, grid_lats: [[6.95  6.975 7.    7.025 7.05  7.075 7.1   7.125]\n",
      " [6.95  6.975 7.    7.025 7.05  7.075 7.1   7.125]\n",
      " [6.95  6.975 7.    7.025 7.05  7.075 7.1   7.125]\n",
      " [6.95  6.975 7.    7.025 7.05  7.075 7.1   7.125]\n",
      " [6.95  6.975 7.    7.025 7.05  7.075 7.1   7.125]\n",
      " [6.95  6.975 7.    7.025 7.05  7.075 7.1   7.125]\n",
      " [6.95  6.975 7.    7.025 7.05  7.075 7.1   7.125]\n",
      " [6.95  6.975 7.    7.025 7.05  7.075 7.1   7.125]] \n",
      " [[43.45  43.45  43.45  43.45  43.45  43.45  43.45  43.45 ]\n",
      " [43.475 43.475 43.475 43.475 43.475 43.475 43.475 43.475]\n",
      " [43.5   43.5   43.5   43.5   43.5   43.5   43.5   43.5  ]\n",
      " [43.525 43.525 43.525 43.525 43.525 43.525 43.525 43.525]\n",
      " [43.55  43.55  43.55  43.55  43.55  43.55  43.55  43.55 ]\n",
      " [43.575 43.575 43.575 43.575 43.575 43.575 43.575 43.575]\n",
      " [43.6   43.6   43.6   43.6   43.6   43.6   43.6   43.6  ]\n",
      " [43.625 43.625 43.625 43.625 43.625 43.625 43.625 43.625]]\n"
     ]
    },
    {
     "data": {
      "image/png": "[encoded data removed]",
      "text/plain": [
       "<Figure size 432x288 with 1 Axes>"
      ]
     },
     "metadata": {
      "needs_background": "light"
     },
     "output_type": "display_data"
    }
   ],
   "source": [
    "import pyfes\n",
    "import matplotlib.dates as mdates\n",
    "import os\n",
    "\n",
    "# define FES_DATA environment variable\n",
    "os.environ['FES_DATA'] = path_fes_2014_data\n",
    "\n",
    "# study location and grid definition\n",
    "location = 'Cannes'\n",
    "lon_study = 7.027011\n",
    "lat_study = 43.545697\n",
    "grid_step = 0.025\n",
    "lons = np.arange(np.floor(lon_study * 10) / 10 - 2*grid_step, np.ceil(lon_study * 10) / 10 + 2*grid_step, grid_step)\n",
    "lats = np.arange(np.floor(lat_study * 10) / 10 - 2*grid_step, np.ceil(lat_study * 10) / 10 + 2*grid_step, grid_step)\n",
    "grid_lons, grid_lats = np.meshgrid(lons, lats)\n",
    "print('grid_lons, grid_lats: %s \\n %s' %(grid_lons, grid_lats))\n",
    "shape = grid_lons.shape\n",
    "\n",
    "# period\n",
    "start_date = np.datetime64('2020-03-11 12:00')\n",
    "end_date = np.datetime64('2020-03-12 12:00')\n",
    "step = 15 # expressed in minutes\n",
    "vec_dates = compute_dates(start_date, end_date, step)\n",
    "dates = np.empty(shape, dtype='datetime64[us]')\n",
    "\n",
    "# Create handler\n",
    "short_tide = pyfes.Handler(\"ocean\", \"memory\", 'fes.ini')\n",
    "\n",
    "\n",
    "# Calculate tide\n",
    "tide_results = {}\n",
    "tide_results['tide_from_fes'] = []\n",
    "tide_results['dates'] = vec_dates\n",
    "\n",
    "for date in vec_dates:\n",
    "    dates.fill(date)\n",
    "    tide, lp, _ = short_tide.calculate(grid_lons.ravel(), grid_lats.ravel(), dates.ravel())\n",
    "    tide, lp = tide.reshape(shape), lp.reshape(shape)\n",
    "\n",
    "    # Convert tide to cm and to a 2d numpy masked array\n",
    "    geo_tide = (tide + lp) * 0.01\n",
    "    geo_tide = geo_tide.reshape(grid_lons.shape)\n",
    "    geo_tide = np.ma.masked_where(np.isnan(geo_tide), geo_tide)\n",
    "\n",
    "    # Extract tide at study location\n",
    "    tide_extract, lon_extract, lat_extract = get_fes_wl_at_extraction_point(lons, lats, lon_study, lat_study, geo_tide)\n",
    "\n",
    "    # save tide results in dictionnary\n",
    "    tide_results['tide_from_fes'].append(tide_extract)\n",
    "\n",
    "\n",
    "# plot tide at study location\n",
    "f, ax = plt.subplots()\n",
    "ax.plot(tide_results['dates'], tide_results['tide_from_fes'], color='dodgerblue', markersize=2, \n",
    "        label='FES2014 tide')\n",
    "ax.set_ylabel('Tide level (m)', fontsize=16)\n",
    "ax.set_title('WATER LEVEL RELATIVE TO MEAN SEA LEVEL AT {loc}'.format(loc=location.upper()), fontsize=16)\n",
    "ax.legend(loc='upper right', fontsize=10, framealpha=0.6)\n",
    "ax.grid(True)\n",
    "ax.xaxis.set_major_formatter(mdates.DateFormatter('%Y/%m/%d %H'))\n",
    "f.autofmt_xdate()\n",
    "plt.show()\n"
   ]
  },
  {
   "cell_type": "code",
   "execution_count": null,
   "metadata": {},
   "outputs": [],
   "source": []
  }
 ],
 "metadata": {
  "kernelspec": {
   "display_name": "Python 3",
   "language": "python",
   "name": "python3"
  },
  "language_info": {
   "codemirror_mode": {
    "name": "ipython",
    "version": 3
   },
   "file_extension": ".py",
   "mimetype": "text/x-python",
   "name": "python",
   "nbconvert_exporter": "python",
   "pygments_lexer": "ipython3",
   "version": "3.7.9"
  }
 },
 "nbformat": 4,
 "nbformat_minor": 4
}
